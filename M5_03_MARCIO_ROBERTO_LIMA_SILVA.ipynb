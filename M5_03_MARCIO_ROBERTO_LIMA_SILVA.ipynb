{
 "cells": [
  {
   "cell_type": "markdown",
   "metadata": {},
   "source": [
    "# Exercicios Modulo 5. JSON (Soluções)\n",
    "\n",
    "Considerações a ter em conta: \n",
    "\n",
    "* Guardar odocumento de soluções comoseguinte formatopara entrega: __M2_01_nome_apelido1_apelido2__\n",
    "* Realizar os exercicios com as ferramentas utilizadas nas aulas. \n",
    "* Comentar o código\n",
    "* Utilizar nomesde variáveis apropriados. Se vamosguardar umanota, chamamos a essa variável nota, não n oux."
   ]
  },
  {
   "cell_type": "markdown",
   "metadata": {},
   "source": [
    "# JSON (JavaScript Object Notation)"
   ]
  },
  {
   "cell_type": "markdown",
   "metadata": {},
   "source": [
    "1) Tenha em consideração o seguinte JSON String:\n",
    "\n",
    "{\"chefe_projeto\":{\"Nome\":\"Juan\",\"Idade\":28,\"Experiência\": [\"Gestão\",\"Finanças\",\"Basesdedados\"],\"Residência\": \n",
    "\"Madrid\",\"HorasProjeto\":3500},\"funcionários\":[{\"Nome\":\"Elena\",\"Idade\":26,\"Experiência\":\n",
    "[\"JavaScript\",\"Python\"],\"Residência\":\"Madrid\",\"HorasProjeto\":500},{\"Nome\":\"Luis\",\"Idade\":31,\"Experiência\": \n",
    "[\"Django\",\"Flask\",\"Pyramid\"],\"Residência\":\"Barcelona\",\"HorasProjeto\":1100}]}\n",
    "\n",
    "\n",
    "* Se necessário, utilizar um visualizador de JSON para o entender.\n",
    "* O objetivo é criar um dicionário com todos os dados e estruturas internas necessárias para que seja igual ao JSON String.\n",
    "* Criar estruturas mais pequenas até que se chegue a formar o mesmo JSON string que vemos acima.\n",
    "* Armazenar esta estrutura (o dicionário) numa variável.\n",
    "* Comprovar o seu tipo e mostrar por ecrã.\n",
    "* Criar duas variáveis: horas_funcionários e horas_chefe\n",
    "* Extrair as horas do chefe e introduzir na sua variável.\n",
    "* Criar um ciclo que percorra a totalidade de funcionários que tem na estrutura e para cada funcionário somar as suas horas na sua variável correspondente.\n",
    "* Somar todas as horas e imprimir."
   ]
  },
  {
   "cell_type": "code",
   "execution_count": 1,
   "metadata": {},
   "outputs": [],
   "source": [
    "# Completa o exercicio aqui\n",
    "import json\n",
    "#iniciando pela menor estrutura, a lista com as experiências\n",
    "experienciaJuan = [\"Gestão\",\"Finanças\",\"Basesdedados\"]\n",
    "experienciaElena = [\"JavaScript\",\"Python\"]\n",
    "experienciaLuis = [\"Django\",\"Flask\",\"Pyramid\"]"
   ]
  },
  {
   "cell_type": "code",
   "execution_count": 2,
   "metadata": {},
   "outputs": [],
   "source": [
    "#inserindo as caracteristicas das pessoas, adicionando a lista de experiências ja feita.\n",
    "pessoa_1 = {\"Nome\":\"Juan\",\"Idade\":28,\"Experiência\": experienciaJuan ,\"Residência\": \"Madrid\",\"HorasProjeto\":3500}\n",
    "pessoa_2 = {\"Nome\":\"Elena\",\"Idade\":26,\"Experiência\": experienciaElena,\"Residência\":\"Madrid\",\"HorasProjeto\":500}\n",
    "Pessoa_3 = {\"Nome\":\"Luis\",\"Idade\":31, \"Experiência\": experienciaLuis, \"Residência\":\"Barcelona\",\"HorasProjeto\":1100}"
   ]
  },
  {
   "cell_type": "code",
   "execution_count": 3,
   "metadata": {},
   "outputs": [],
   "source": [
    "chefe_proj = pessoa_1 "
   ]
  },
  {
   "cell_type": "code",
   "execution_count": 4,
   "metadata": {},
   "outputs": [],
   "source": [
    "funcionarios = [pessoa_2, Pessoa_3]"
   ]
  },
  {
   "cell_type": "code",
   "execution_count": 5,
   "metadata": {},
   "outputs": [],
   "source": [
    "estrutura_final = { \"chefe_projeto\" : chefe_proj, \"funcionários\": funcionarios}"
   ]
  },
  {
   "cell_type": "code",
   "execution_count": 6,
   "metadata": {},
   "outputs": [
    {
     "name": "stdout",
     "output_type": "stream",
     "text": [
      "<class 'dict'>\n",
      "\n",
      "{'chefe_projeto': {'Nome': 'Juan', 'Idade': 28, 'Experiência': ['Gestão', 'Finanças', 'Basesdedados'], 'Residência': 'Madrid', 'HorasProjeto': 3500}, 'funcionários': [{'Nome': 'Elena', 'Idade': 26, 'Experiência': ['JavaScript', 'Python'], 'Residência': 'Madrid', 'HorasProjeto': 500}, {'Nome': 'Luis', 'Idade': 31, 'Experiência': ['Django', 'Flask', 'Pyramid'], 'Residência': 'Barcelona', 'HorasProjeto': 1100}]}\n"
     ]
    }
   ],
   "source": [
    "print (type(estrutura_final)) #Comprovando o seu tipo \n",
    "print()\n",
    "print(estrutura_final) # mostrando resultado no ecrã"
   ]
  },
  {
   "cell_type": "code",
   "execution_count": 7,
   "metadata": {},
   "outputs": [],
   "source": [
    "horas_chefe =  estrutura_final['chefe_projeto']['HorasProjeto'] #buscando na estrutura final as horas do chefe e adicionando a uma variavel."
   ]
  },
  {
   "cell_type": "code",
   "execution_count": 8,
   "metadata": {},
   "outputs": [
    {
     "name": "stdout",
     "output_type": "stream",
     "text": [
      "Horas do chefe: 3500\n"
     ]
    }
   ],
   "source": [
    "print (f'Horas do chefe: {horas_chefe}')"
   ]
  },
  {
   "cell_type": "code",
   "execution_count": 9,
   "metadata": {},
   "outputs": [
    {
     "name": "stdout",
     "output_type": "stream",
     "text": [
      "Horas de todos os funcionarios: 1600\n"
     ]
    }
   ],
   "source": [
    "horas_funcionários = 0 #inciando a variavel com as horas dos funcionarios\n",
    "for funcionario in estrutura_final['funcionários']: # loop for para percorrer cada item do dicionario 'funcionario'\n",
    "    horas_funcionários += funcionario['HorasProjeto'] # e para cada funcionario é extraida as horasprojeto e adicionado a variavel horas_funcionários\n",
    "print (f'Horas de todos os funcionarios: {horas_funcionários}') "
   ]
  },
  {
   "cell_type": "markdown",
   "metadata": {},
   "source": [
    "2) No exercício anterior trabalhou-se com um dicionário que nós mesmos/as criamos. Converter para um formato JSON String, imprimir o seu tipo e os seus dados. Para que serve este formato?"
   ]
  },
  {
   "cell_type": "code",
   "execution_count": 10,
   "metadata": {},
   "outputs": [],
   "source": [
    "# Completa o exercicio aqui\n",
    "JsonString = json.dumps(estrutura_final, ensure_ascii=False)"
   ]
  },
  {
   "cell_type": "code",
   "execution_count": 11,
   "metadata": {},
   "outputs": [
    {
     "name": "stdout",
     "output_type": "stream",
     "text": [
      "<class 'str'>\n",
      "\n",
      "{\"chefe_projeto\": {\"Nome\": \"Juan\", \"Idade\": 28, \"Experiência\": [\"Gestão\", \"Finanças\", \"Basesdedados\"], \"Residência\": \"Madrid\", \"HorasProjeto\": 3500}, \"funcionários\": [{\"Nome\": \"Elena\", \"Idade\": 26, \"Experiência\": [\"JavaScript\", \"Python\"], \"Residência\": \"Madrid\", \"HorasProjeto\": 500}, {\"Nome\": \"Luis\", \"Idade\": 31, \"Experiência\": [\"Django\", \"Flask\", \"Pyramid\"], \"Residência\": \"Barcelona\", \"HorasProjeto\": 1100}]}\n"
     ]
    }
   ],
   "source": [
    "print(type(JsonString))\n",
    "print()\n",
    "print(JsonString)\n",
    "#Json é um formato de arquivo de dados baseado em JavaScript e é utilizado para transmitir dados entre o servidor e o utilizador."
   ]
  },
  {
   "cell_type": "markdown",
   "metadata": {},
   "source": [
    "3) Por vezes encontramos JSON que se tem de modificar. Para isso, temos de descodificá-los, fazer as modificações pertinentes e voltar a codificá-los para os deixar como JSON de novo. No seguinte exemplo podemos ver que há alguns erros:\n",
    "\n",
    "* Ao Superman falta-lhe como poder \"Voar\"\n",
    "* No Batman, a idade é 35, não 350\n",
    "* No Batman, retire-lhe o poder de \"Raio laser\"\n",
    "* No Wonder Woman falta-lhe o poder \"Laço da verdade\"\n",
    "\n",
    "Depois de corrigir, sem criar um novo, voltar a transformar estes dados num JSON String"
   ]
  },
  {
   "cell_type": "code",
   "execution_count": 37,
   "metadata": {},
   "outputs": [],
   "source": [
    "# NÃO UTILIZE ESTE BLOCO\n",
    "\n",
    "superherois = {\n",
    "\t\"nomedaEquipa\": \"Super Hero Squad\",\n",
    "\t\"cidade\": \"Metro City\",\n",
    "\t\"formado\": 2016,\n",
    "\t\"baseSecreta\": \"Super Tower\",\n",
    "\t\"activo\": \"Sim\",\n",
    "\t\"membros\": [\n",
    "\t\t{\n",
    "\t\t\t\"nome\": \"SuperMan\",\n",
    "\t\t\t\"idade\": 29,\n",
    "\t\t\t\"identidadeSecreta\": \"Clart Kent\",\n",
    "\t\t\t\"poderes\": [\n",
    "\t\t\t\t\"Super força\",\n",
    "\t\t\t\t\"Super velocidade\",\n",
    "\t\t\t\t\"Raio laser\"\n",
    "\t\t\t]\n",
    "\t\t},\n",
    "\t\t{\n",
    "\t\t\t\"nome\": \"Batman\",\n",
    "\t\t\t\"idade\": 350,\n",
    "\t\t\t\"identidadeSecreta\": \"Bruce Wayne\",\n",
    "\t\t\t\"poderes\": [\n",
    "\t\t\t\t\"Detective\",\n",
    "\t\t\t\t\"Dinheiro\",\n",
    "\t\t\t\t\"Raio laser\"\n",
    "\t\t\t]\n",
    "\t\t},\n",
    "\t\t{\n",
    "\t\t\t\"nome\": \"Wonder Woman\",\n",
    "\t\t\t\"idade\": 900,\n",
    "\t\t\t\"identidadeSecreta\": \"Diana de Temiscira\",\n",
    "\t\t\t\"poderes\": [\n",
    "\t\t\t\t\"Super força\",\n",
    "\t\t\t\t\"Super velocidade\"\n",
    "\t\t\t]\n",
    "\t\t}\n",
    "\t]\n",
    "}"
   ]
  },
  {
   "cell_type": "code",
   "execution_count": 38,
   "metadata": {},
   "outputs": [],
   "source": [
    "# Completa o exercicio aqui\n",
    "superherois['membros'][0]['poderes'].append('Voar')"
   ]
  },
  {
   "cell_type": "code",
   "execution_count": 39,
   "metadata": {},
   "outputs": [],
   "source": [
    "superherois['membros'][1]['idade'] = 35"
   ]
  },
  {
   "cell_type": "code",
   "execution_count": 40,
   "metadata": {},
   "outputs": [
    {
     "data": {
      "text/plain": [
       "'Raio laser'"
      ]
     },
     "execution_count": 40,
     "metadata": {},
     "output_type": "execute_result"
    }
   ],
   "source": [
    "superherois['membros'][1]['poderes'].pop()"
   ]
  },
  {
   "cell_type": "code",
   "execution_count": 41,
   "metadata": {},
   "outputs": [],
   "source": [
    "superherois['membros'][2]['poderes'].append('Laço da verdade')"
   ]
  },
  {
   "cell_type": "code",
   "execution_count": 42,
   "metadata": {},
   "outputs": [],
   "source": [
    "superherois_correcao = json.dumps(superherois, ensure_ascii=False)"
   ]
  },
  {
   "cell_type": "code",
   "execution_count": 43,
   "metadata": {},
   "outputs": [
    {
     "name": "stdout",
     "output_type": "stream",
     "text": [
      "<class 'str'>\n",
      "\n",
      "{\"nomedaEquipa\": \"Super Hero Squad\", \"cidade\": \"Metro City\", \"formado\": 2016, \"baseSecreta\": \"Super Tower\", \"activo\": \"Sim\", \"membros\": [{\"nome\": \"SuperMan\", \"idade\": 29, \"identidadeSecreta\": \"Clart Kent\", \"poderes\": [\"Super força\", \"Super velocidade\", \"Raio laser\", \"Voar\"]}, {\"nome\": \"Batman\", \"idade\": 35, \"identidadeSecreta\": \"Bruce Wayne\", \"poderes\": [\"Detective\", \"Dinheiro\"]}, {\"nome\": \"Wonder Woman\", \"idade\": 900, \"identidadeSecreta\": \"Diana de Temiscira\", \"poderes\": [\"Super força\", \"Super velocidade\", \"Laço da verdade\"]}]}\n"
     ]
    }
   ],
   "source": [
    "print(type(superherois_correcao))\n",
    "print()\n",
    "print(superherois_correcao)"
   ]
  },
  {
   "cell_type": "markdown",
   "metadata": {},
   "source": [
    "4) Com base no exercício anterior, modificar a estrutura de **super_herois** para conseguir que **membros** tenham dois ramos: \"membrosAtivos\" e \"membrosInativos\", onde cada um destes ramos, armazenem os heróis que estão no ativo e os que não. Neste caso, introduzimos SuperMan e WonderWoman na lista de ativos e Batman na de inativos. Esta modificação podemos fazê-la como quisermos: ou programando as estruturas de dados e adicionar ao JSON ou fazer a alteração diretamente no JSON. Ao finalizar, podemos comprovar o nosso JSON num visualizador online.(http://jsonviewer.stack.hu/)"
   ]
  },
  {
   "cell_type": "code",
   "execution_count": 44,
   "metadata": {},
   "outputs": [],
   "source": [
    "# Completa o exercicio aqui\n",
    "membrosAtivos = [superherois['membros'][0], superherois['membros'][2]] #inserindo os dados na variavel dos membros ativos (Superman e Wonder Woman)\n",
    "membrosInativos = [superherois['membros'][1]] #inserindo os dados na variavel dos membros inativos (Batman)"
   ]
  },
  {
   "cell_type": "code",
   "execution_count": 48,
   "metadata": {},
   "outputs": [],
   "source": [
    "superherois['membros'] = {'membros ativos' : membrosAtivos, 'membros inativos' : membrosInativos} #inserindo as novas variaveis a estrutura."
   ]
  },
  {
   "cell_type": "code",
   "execution_count": 53,
   "metadata": {},
   "outputs": [
    {
     "name": "stdout",
     "output_type": "stream",
     "text": [
      "{'nomedaEquipa': 'Super Hero Squad', 'cidade': 'Metro City', 'formado': 2016, 'baseSecreta': 'Super Tower', 'activo': 'Sim', 'membros': {'membros ativos': [{'nome': 'SuperMan', 'idade': 29, 'identidadeSecreta': 'Clart Kent', 'poderes': ['Super força', 'Super velocidade', 'Raio laser', 'Voar']}, {'nome': 'Wonder Woman', 'idade': 900, 'identidadeSecreta': 'Diana de Temiscira', 'poderes': ['Super força', 'Super velocidade', 'Laço da verdade']}], 'membros inativos': [{'nome': 'Batman', 'idade': 35, 'identidadeSecreta': 'Bruce Wayne', 'poderes': ['Detective', 'Dinheiro']}]}}\n"
     ]
    }
   ],
   "source": [
    "print (superherois) #verificando o resultado."
   ]
  },
  {
   "cell_type": "markdown",
   "metadata": {},
   "source": [
    "5) No seguinte código, aceder a um JSON de forma remota. A partir da resposta, fazer o seguinte:\n",
    "\n",
    "* Mostrar o tipo de dados que se recebeu.\n",
    "* Expor os dados recebidos.\n",
    "* Mostrar o número de pessoas que se encontram atualmente na estrutura.\n",
    "* Fazer um ciclo que percorra todas essas pessoas e mostre os seus detalhes (nome, armazém, etc) no qual  se encontra.\n"
   ]
  },
  {
   "cell_type": "code",
   "execution_count": 54,
   "metadata": {},
   "outputs": [],
   "source": [
    "from pip._vendor import requests\n",
    "\n",
    "\n",
    "# API que nos comunica quantas pessoas se encontram atualmente no espaço \n",
    "response = requests.get(\"http://api.open-notify.org/astros.json\")\n",
    "data = response.json()\n",
    "\n",
    "# Completar o exercício."
   ]
  },
  {
   "cell_type": "code",
   "execution_count": 55,
   "metadata": {},
   "outputs": [
    {
     "name": "stdout",
     "output_type": "stream",
     "text": [
      "<class 'dict'>\n"
     ]
    }
   ],
   "source": [
    "print(type(data)) #Mostrando o tipo de dados que se recebeu."
   ]
  },
  {
   "cell_type": "code",
   "execution_count": 56,
   "metadata": {},
   "outputs": [
    {
     "name": "stdout",
     "output_type": "stream",
     "text": [
      "{'number': 10, 'people': [{'name': 'Sergey Prokopyev', 'craft': 'ISS'}, {'name': 'Dmitry Petelin', 'craft': 'ISS'}, {'name': 'Frank Rubio', 'craft': 'ISS'}, {'name': 'Stephen Bowen', 'craft': 'ISS'}, {'name': 'Warren Hoburg', 'craft': 'ISS'}, {'name': 'Sultan Alneyadi', 'craft': 'ISS'}, {'name': 'Andrey Fedyaev', 'craft': 'ISS'}, {'name': 'Jing Haiping', 'craft': 'Tiangong'}, {'name': 'Gui Haichow', 'craft': 'Tiangong'}, {'name': 'Zhu Yangzhu', 'craft': 'Tiangong'}], 'message': 'success'}\n"
     ]
    }
   ],
   "source": [
    "print(data) #Expondo os dados recebidos."
   ]
  },
  {
   "cell_type": "code",
   "execution_count": 60,
   "metadata": {},
   "outputs": [
    {
     "name": "stdout",
     "output_type": "stream",
     "text": [
      "10\n"
     ]
    }
   ],
   "source": [
    "print(data['number']) #Mostrando o número de pessoas que se encontram atualmente na estrutura."
   ]
  },
  {
   "cell_type": "code",
   "execution_count": 61,
   "metadata": {},
   "outputs": [
    {
     "name": "stdout",
     "output_type": "stream",
     "text": [
      "10\n"
     ]
    }
   ],
   "source": [
    "quantidade = 0 #outra forma de mostrar o número de pessoas que se encontram na estrutura.\n",
    "for pessoa in data['people']:\n",
    "    quantidade += 1\n",
    "print(quantidade)"
   ]
  },
  {
   "cell_type": "code",
   "execution_count": 62,
   "metadata": {},
   "outputs": [
    {
     "name": "stdout",
     "output_type": "stream",
     "text": [
      "{'name': 'Sergey Prokopyev', 'craft': 'ISS'}\n",
      "{'name': 'Dmitry Petelin', 'craft': 'ISS'}\n",
      "{'name': 'Frank Rubio', 'craft': 'ISS'}\n",
      "{'name': 'Stephen Bowen', 'craft': 'ISS'}\n",
      "{'name': 'Warren Hoburg', 'craft': 'ISS'}\n",
      "{'name': 'Sultan Alneyadi', 'craft': 'ISS'}\n",
      "{'name': 'Andrey Fedyaev', 'craft': 'ISS'}\n",
      "{'name': 'Jing Haiping', 'craft': 'Tiangong'}\n",
      "{'name': 'Gui Haichow', 'craft': 'Tiangong'}\n",
      "{'name': 'Zhu Yangzhu', 'craft': 'Tiangong'}\n"
     ]
    }
   ],
   "source": [
    "for pessoa in data['people']: #ciclo que percorre todas as pessoas e mostra os seus detalhes.\n",
    "    print(pessoa)"
   ]
  },
  {
   "cell_type": "code",
   "execution_count": null,
   "metadata": {},
   "outputs": [],
   "source": []
  }
 ],
 "metadata": {
  "anaconda-cloud": {},
  "kernelspec": {
   "display_name": "Python 3 (ipykernel)",
   "language": "python",
   "name": "python3"
  },
  "language_info": {
   "codemirror_mode": {
    "name": "ipython",
    "version": 3
   },
   "file_extension": ".py",
   "mimetype": "text/x-python",
   "name": "python",
   "nbconvert_exporter": "python",
   "pygments_lexer": "ipython3",
   "version": "3.10.9"
  }
 },
 "nbformat": 4,
 "nbformat_minor": 1
}
