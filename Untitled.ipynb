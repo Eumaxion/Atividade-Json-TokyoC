{
 "cells": [
  {
   "cell_type": "code",
   "execution_count": 1,
   "id": "4d7e640c",
   "metadata": {},
   "outputs": [],
   "source": [
    "import json"
   ]
  },
  {
   "cell_type": "code",
   "execution_count": 3,
   "id": "40df9bab",
   "metadata": {},
   "outputs": [
    {
     "name": "stdout",
     "output_type": "stream",
     "text": [
      "<class 'dict'>\n"
     ]
    }
   ],
   "source": [
    "var = {\"chefe_projeto\":{\"Nome\":\"Juan\",\"Idade\":28,\"Experiência\": [\"Gestão\",\"Finanças\",\"Basesdedados\"],\"Residência\": \"Madrid\",\"HorasProjeto\":3500},\"funcionários\":[{\"Nome\":\"Elena\",\"Idade\":26,\"Experiência\": [\"JavaScript\",\"Python\"],\"Residência\":\"Madrid\",\"HorasProjeto\":500},{\"Nome\":\"Luis\",\"Idade\":31,\"Experiência\": [\"Django\",\"Flask\",\"Pyramid\"],\"Residência\":\"Barcelona\",\"HorasProjeto\":1100}]}\n",
    "print(type(var))"
   ]
  },
  {
   "cell_type": "code",
   "execution_count": 4,
   "id": "d3e0bae6",
   "metadata": {},
   "outputs": [],
   "source": [
    "dicionario = {\"chefe_projeto\":{\"Nome\":\"Juan\", #segunda tentativa\n",
    "                      \"Idade\":28,\n",
    "                      \"Experiência\": [\"Gestão\",\"Finanças\",\"Basesdedados\"],\n",
    "                      \"Residência\": \"Madrid\",\n",
    "                      \"HorasProjeto\":3500},\n",
    "     \"funcionários\":[{\"Nome\":\"Elena\",\n",
    "                      \"Idade\":26,\n",
    "                      \"Experiência\": [\"JavaScript\",\"Python\"],\n",
    "                      \"Residência\":\"Madrid\",\n",
    "                      \"HorasProjeto\":500},\n",
    "                     {\"Nome\":\"Luis\",\n",
    "                      \"Idade\":31,\n",
    "                      \"Experiência\": [\"Django\",\"Flask\",\"Pyramid\"],\n",
    "                      \"Residência\":\"Barcelona\",\n",
    "                      \"HorasProjeto\":1100}]}"
   ]
  },
  {
   "cell_type": "code",
   "execution_count": null,
   "id": "9cfaf531",
   "metadata": {},
   "outputs": [],
   "source": []
  },
  {
   "cell_type": "code",
   "execution_count": 5,
   "id": "70ed9b91",
   "metadata": {},
   "outputs": [],
   "source": [
    "pessoa_1 = {\"Nome\":\"Juan\",\"Idade\":28,\"Experiência\": [\"Gestão\",\"Finanças\",\"Basesdedados\"],\"Residência\": \"Madrid\",\"HorasProjeto\":3500}"
   ]
  },
  {
   "cell_type": "code",
   "execution_count": null,
   "id": "d4b080c5",
   "metadata": {},
   "outputs": [],
   "source": [
    "pessoa_2 = {\"Nome\":\"Elena\",\"Idade\":26,\"Experiência\": [\"JavaScript\",\"Python\"],\"Residência\":\"Madrid\",\"HorasProjeto\":500}"
   ]
  },
  {
   "cell_type": "code",
   "execution_count": null,
   "id": "61f62f81",
   "metadata": {},
   "outputs": [],
   "source": [
    "Pessoa_3 = {\"Nome\":\"Luis\",\"Idade\":31, \"Experiência\": [\"Django\",\"Flask\",\"Pyramid\"], \"Residência\":\"Barcelona\",\"HorasProjeto\":1100}"
   ]
  },
  {
   "cell_type": "code",
   "execution_count": 14,
   "id": "005223f5",
   "metadata": {},
   "outputs": [],
   "source": [
    "chefe_proj = pessoa_1"
   ]
  },
  {
   "cell_type": "code",
   "execution_count": null,
   "id": "0999becd",
   "metadata": {},
   "outputs": [],
   "source": [
    "funcion = [pessoa_2, Pessoa_3]"
   ]
  },
  {
   "cell_type": "code",
   "execution_count": 12,
   "id": "03133aa2",
   "metadata": {},
   "outputs": [],
   "source": [
    "json_string = { \"chefe_projeto\" : chefe_proj, \"funcionários\": funcion}"
   ]
  },
  {
   "cell_type": "code",
   "execution_count": 13,
   "id": "f6065059",
   "metadata": {},
   "outputs": [
    {
     "name": "stdout",
     "output_type": "stream",
     "text": [
      "{'chefe_projeto': {'Nome': 'Juan', 'Idade': 28, 'Experiência': ['Gestão', 'Finanças', 'Basesdedados'], 'Residência': 'Madrid', 'HorasProjeto': 3500}, 'funcionários': [{'Nome': 'Elena', 'Idade': 26, 'Experiência': ['JavaScript', 'Python'], 'Residência': 'Madrid', 'HorasProjeto': 500}, {'Nome': 'Luis', 'Idade': 31, 'Experiência': ['Django', 'Flask', 'Pyramid'], 'Residência': 'Barcelona', 'HorasProjeto': 1100}]}\n"
     ]
    }
   ],
   "source": [
    "print(json_string)"
   ]
  },
  {
   "cell_type": "code",
   "execution_count": null,
   "id": "be7dd0cf",
   "metadata": {},
   "outputs": [],
   "source": []
  }
 ],
 "metadata": {
  "kernelspec": {
   "display_name": "Python 3 (ipykernel)",
   "language": "python",
   "name": "python3"
  },
  "language_info": {
   "codemirror_mode": {
    "name": "ipython",
    "version": 3
   },
   "file_extension": ".py",
   "mimetype": "text/x-python",
   "name": "python",
   "nbconvert_exporter": "python",
   "pygments_lexer": "ipython3",
   "version": "3.10.9"
  }
 },
 "nbformat": 4,
 "nbformat_minor": 5
}
